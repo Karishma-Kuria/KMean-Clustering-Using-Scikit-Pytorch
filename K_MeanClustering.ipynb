{
  "nbformat": 4,
  "nbformat_minor": 0,
  "metadata": {
    "colab": {
      "name": "K-MeanClustering.ipynb",
      "provenance": [],
      "collapsed_sections": [],
      "authorship_tag": "ABX9TyPwhpYu4zmM9v/s5ami4mR4",
      "include_colab_link": true
    },
    "kernelspec": {
      "name": "python3",
      "display_name": "Python 3"
    },
    "language_info": {
      "name": "python"
    }
  },
  "cells": [
    {
      "cell_type": "markdown",
      "metadata": {
        "id": "view-in-github",
        "colab_type": "text"
      },
      "source": [
        "<a href=\"https://colab.research.google.com/github/Karishma-Kuria/KMean-Clustering-Using-Scikit-Pytorch/blob/main/K_MeanClustering.ipynb\" target=\"_parent\"><img src=\"https://colab.research.google.com/assets/colab-badge.svg\" alt=\"Open In Colab\"/></a>"
      ]
    },
    {
      "cell_type": "markdown",
      "source": [
        "This dataset contains "
      ],
      "metadata": {
        "id": "q0eF-N68fZCM"
      }
    },
    {
      "cell_type": "code",
      "execution_count": 127,
      "metadata": {
        "colab": {
          "base_uri": "https://localhost:8080/"
        },
        "id": "rNy_1PwnfKdC",
        "outputId": "e0f74219-f406-493d-fe43-2a01232408ae"
      },
      "outputs": [
        {
          "output_type": "stream",
          "name": "stdout",
          "text": [
            "Drive already mounted at /content/drive; to attempt to forcibly remount, call drive.mount(\"/content/drive\", force_remount=True).\n"
          ]
        }
      ],
      "source": [
        "import pandas as pd\n",
        "import numpy as np\n",
        "from google.colab import drive\n",
        "import matplotlib as mp\n",
        "import matplotlib.pyplot as plot\n",
        "import seaborn as sns\n",
        "from sklearn.cluster import KMeans\n",
        "from sklearn import metrics\n",
        "\n",
        "\n",
        "drive.mount('/content/drive')"
      ]
    },
    {
      "cell_type": "code",
      "source": [
        "event_path = \"/content/drive/MyDrive/ML_DataSet/events.csv\"\n",
        "info_path = \"/content/drive/MyDrive/ML_DataSet/ginf.csv\"\n",
        "\n",
        "game_events = pd.read_csv(event_path)\n",
        "game_info = pd.read_csv(info_path)"
      ],
      "metadata": {
        "id": "fGxFMs5Sn4OU"
      },
      "execution_count": 128,
      "outputs": []
    },
    {
      "cell_type": "code",
      "source": [
        "game_events.head()\n",
        "game_events.shape"
      ],
      "metadata": {
        "colab": {
          "base_uri": "https://localhost:8080/"
        },
        "id": "OQDomLNVqdpW",
        "outputId": "b264c752-84c9-4f9e-adc1-821d58b67038"
      },
      "execution_count": 129,
      "outputs": [
        {
          "output_type": "execute_result",
          "data": {
            "text/plain": [
              "(941009, 22)"
            ]
          },
          "metadata": {},
          "execution_count": 129
        }
      ]
    },
    {
      "cell_type": "code",
      "source": [
        "game_info.shape\n",
        "game_info.head()"
      ],
      "metadata": {
        "id": "fFZDQLrEqpLB",
        "colab": {
          "base_uri": "https://localhost:8080/",
          "height": 444
        },
        "outputId": "6ab7156b-684a-4b43-d948-2a6c4cdf5816"
      },
      "execution_count": 130,
      "outputs": [
        {
          "output_type": "execute_result",
          "data": {
            "text/html": [
              "\n",
              "  <div id=\"df-3d039117-0d91-4015-b48a-23f7717087ee\">\n",
              "    <div class=\"colab-df-container\">\n",
              "      <div>\n",
              "<style scoped>\n",
              "    .dataframe tbody tr th:only-of-type {\n",
              "        vertical-align: middle;\n",
              "    }\n",
              "\n",
              "    .dataframe tbody tr th {\n",
              "        vertical-align: top;\n",
              "    }\n",
              "\n",
              "    .dataframe thead th {\n",
              "        text-align: right;\n",
              "    }\n",
              "</style>\n",
              "<table border=\"1\" class=\"dataframe\">\n",
              "  <thead>\n",
              "    <tr style=\"text-align: right;\">\n",
              "      <th></th>\n",
              "      <th>id_odsp</th>\n",
              "      <th>link_odsp</th>\n",
              "      <th>adv_stats</th>\n",
              "      <th>date</th>\n",
              "      <th>league</th>\n",
              "      <th>season</th>\n",
              "      <th>country</th>\n",
              "      <th>ht</th>\n",
              "      <th>at</th>\n",
              "      <th>fthg</th>\n",
              "      <th>ftag</th>\n",
              "      <th>odd_h</th>\n",
              "      <th>odd_d</th>\n",
              "      <th>odd_a</th>\n",
              "      <th>odd_over</th>\n",
              "      <th>odd_under</th>\n",
              "      <th>odd_bts</th>\n",
              "      <th>odd_bts_n</th>\n",
              "    </tr>\n",
              "  </thead>\n",
              "  <tbody>\n",
              "    <tr>\n",
              "      <th>0</th>\n",
              "      <td>UFot0hit/</td>\n",
              "      <td>/soccer/germany/bundesliga-2011-2012/dortmund-...</td>\n",
              "      <td>True</td>\n",
              "      <td>2011-08-05</td>\n",
              "      <td>D1</td>\n",
              "      <td>2012</td>\n",
              "      <td>germany</td>\n",
              "      <td>Borussia Dortmund</td>\n",
              "      <td>Hamburg SV</td>\n",
              "      <td>3</td>\n",
              "      <td>1</td>\n",
              "      <td>1.56</td>\n",
              "      <td>4.41</td>\n",
              "      <td>7.42</td>\n",
              "      <td>NaN</td>\n",
              "      <td>NaN</td>\n",
              "      <td>NaN</td>\n",
              "      <td>NaN</td>\n",
              "    </tr>\n",
              "    <tr>\n",
              "      <th>1</th>\n",
              "      <td>Aw5DflLH/</td>\n",
              "      <td>/soccer/germany/bundesliga-2011-2012/augsburg-...</td>\n",
              "      <td>True</td>\n",
              "      <td>2011-08-06</td>\n",
              "      <td>D1</td>\n",
              "      <td>2012</td>\n",
              "      <td>germany</td>\n",
              "      <td>FC Augsburg</td>\n",
              "      <td>SC Freiburg</td>\n",
              "      <td>2</td>\n",
              "      <td>2</td>\n",
              "      <td>2.36</td>\n",
              "      <td>3.60</td>\n",
              "      <td>3.40</td>\n",
              "      <td>NaN</td>\n",
              "      <td>NaN</td>\n",
              "      <td>NaN</td>\n",
              "      <td>NaN</td>\n",
              "    </tr>\n",
              "    <tr>\n",
              "      <th>2</th>\n",
              "      <td>bkjpaC6n/</td>\n",
              "      <td>/soccer/germany/bundesliga-2011-2012/werder-br...</td>\n",
              "      <td>True</td>\n",
              "      <td>2011-08-06</td>\n",
              "      <td>D1</td>\n",
              "      <td>2012</td>\n",
              "      <td>germany</td>\n",
              "      <td>Werder Bremen</td>\n",
              "      <td>Kaiserslautern</td>\n",
              "      <td>2</td>\n",
              "      <td>0</td>\n",
              "      <td>1.83</td>\n",
              "      <td>4.20</td>\n",
              "      <td>4.80</td>\n",
              "      <td>NaN</td>\n",
              "      <td>NaN</td>\n",
              "      <td>NaN</td>\n",
              "      <td>NaN</td>\n",
              "    </tr>\n",
              "    <tr>\n",
              "      <th>3</th>\n",
              "      <td>CzPV312a/</td>\n",
              "      <td>/soccer/france/ligue-1-2011-2012/paris-sg-lori...</td>\n",
              "      <td>True</td>\n",
              "      <td>2011-08-06</td>\n",
              "      <td>F1</td>\n",
              "      <td>2012</td>\n",
              "      <td>france</td>\n",
              "      <td>Paris Saint-Germain</td>\n",
              "      <td>Lorient</td>\n",
              "      <td>0</td>\n",
              "      <td>1</td>\n",
              "      <td>1.55</td>\n",
              "      <td>4.50</td>\n",
              "      <td>9.40</td>\n",
              "      <td>NaN</td>\n",
              "      <td>NaN</td>\n",
              "      <td>NaN</td>\n",
              "      <td>NaN</td>\n",
              "    </tr>\n",
              "    <tr>\n",
              "      <th>4</th>\n",
              "      <td>GUOdmtII/</td>\n",
              "      <td>/soccer/france/ligue-1-2011-2012/caen-valencie...</td>\n",
              "      <td>True</td>\n",
              "      <td>2011-08-06</td>\n",
              "      <td>F1</td>\n",
              "      <td>2012</td>\n",
              "      <td>france</td>\n",
              "      <td>Caen</td>\n",
              "      <td>Valenciennes</td>\n",
              "      <td>1</td>\n",
              "      <td>0</td>\n",
              "      <td>2.50</td>\n",
              "      <td>3.40</td>\n",
              "      <td>3.45</td>\n",
              "      <td>NaN</td>\n",
              "      <td>NaN</td>\n",
              "      <td>NaN</td>\n",
              "      <td>NaN</td>\n",
              "    </tr>\n",
              "  </tbody>\n",
              "</table>\n",
              "</div>\n",
              "      <button class=\"colab-df-convert\" onclick=\"convertToInteractive('df-3d039117-0d91-4015-b48a-23f7717087ee')\"\n",
              "              title=\"Convert this dataframe to an interactive table.\"\n",
              "              style=\"display:none;\">\n",
              "        \n",
              "  <svg xmlns=\"http://www.w3.org/2000/svg\" height=\"24px\"viewBox=\"0 0 24 24\"\n",
              "       width=\"24px\">\n",
              "    <path d=\"M0 0h24v24H0V0z\" fill=\"none\"/>\n",
              "    <path d=\"M18.56 5.44l.94 2.06.94-2.06 2.06-.94-2.06-.94-.94-2.06-.94 2.06-2.06.94zm-11 1L8.5 8.5l.94-2.06 2.06-.94-2.06-.94L8.5 2.5l-.94 2.06-2.06.94zm10 10l.94 2.06.94-2.06 2.06-.94-2.06-.94-.94-2.06-.94 2.06-2.06.94z\"/><path d=\"M17.41 7.96l-1.37-1.37c-.4-.4-.92-.59-1.43-.59-.52 0-1.04.2-1.43.59L10.3 9.45l-7.72 7.72c-.78.78-.78 2.05 0 2.83L4 21.41c.39.39.9.59 1.41.59.51 0 1.02-.2 1.41-.59l7.78-7.78 2.81-2.81c.8-.78.8-2.07 0-2.86zM5.41 20L4 18.59l7.72-7.72 1.47 1.35L5.41 20z\"/>\n",
              "  </svg>\n",
              "      </button>\n",
              "      \n",
              "  <style>\n",
              "    .colab-df-container {\n",
              "      display:flex;\n",
              "      flex-wrap:wrap;\n",
              "      gap: 12px;\n",
              "    }\n",
              "\n",
              "    .colab-df-convert {\n",
              "      background-color: #E8F0FE;\n",
              "      border: none;\n",
              "      border-radius: 50%;\n",
              "      cursor: pointer;\n",
              "      display: none;\n",
              "      fill: #1967D2;\n",
              "      height: 32px;\n",
              "      padding: 0 0 0 0;\n",
              "      width: 32px;\n",
              "    }\n",
              "\n",
              "    .colab-df-convert:hover {\n",
              "      background-color: #E2EBFA;\n",
              "      box-shadow: 0px 1px 2px rgba(60, 64, 67, 0.3), 0px 1px 3px 1px rgba(60, 64, 67, 0.15);\n",
              "      fill: #174EA6;\n",
              "    }\n",
              "\n",
              "    [theme=dark] .colab-df-convert {\n",
              "      background-color: #3B4455;\n",
              "      fill: #D2E3FC;\n",
              "    }\n",
              "\n",
              "    [theme=dark] .colab-df-convert:hover {\n",
              "      background-color: #434B5C;\n",
              "      box-shadow: 0px 1px 3px 1px rgba(0, 0, 0, 0.15);\n",
              "      filter: drop-shadow(0px 1px 2px rgba(0, 0, 0, 0.3));\n",
              "      fill: #FFFFFF;\n",
              "    }\n",
              "  </style>\n",
              "\n",
              "      <script>\n",
              "        const buttonEl =\n",
              "          document.querySelector('#df-3d039117-0d91-4015-b48a-23f7717087ee button.colab-df-convert');\n",
              "        buttonEl.style.display =\n",
              "          google.colab.kernel.accessAllowed ? 'block' : 'none';\n",
              "\n",
              "        async function convertToInteractive(key) {\n",
              "          const element = document.querySelector('#df-3d039117-0d91-4015-b48a-23f7717087ee');\n",
              "          const dataTable =\n",
              "            await google.colab.kernel.invokeFunction('convertToInteractive',\n",
              "                                                     [key], {});\n",
              "          if (!dataTable) return;\n",
              "\n",
              "          const docLinkHtml = 'Like what you see? Visit the ' +\n",
              "            '<a target=\"_blank\" href=https://colab.research.google.com/notebooks/data_table.ipynb>data table notebook</a>'\n",
              "            + ' to learn more about interactive tables.';\n",
              "          element.innerHTML = '';\n",
              "          dataTable['output_type'] = 'display_data';\n",
              "          await google.colab.output.renderOutput(dataTable, element);\n",
              "          const docLink = document.createElement('div');\n",
              "          docLink.innerHTML = docLinkHtml;\n",
              "          element.appendChild(docLink);\n",
              "        }\n",
              "      </script>\n",
              "    </div>\n",
              "  </div>\n",
              "  "
            ],
            "text/plain": [
              "     id_odsp  ... odd_bts_n\n",
              "0  UFot0hit/  ...       NaN\n",
              "1  Aw5DflLH/  ...       NaN\n",
              "2  bkjpaC6n/  ...       NaN\n",
              "3  CzPV312a/  ...       NaN\n",
              "4  GUOdmtII/  ...       NaN\n",
              "\n",
              "[5 rows x 18 columns]"
            ]
          },
          "metadata": {},
          "execution_count": 130
        }
      ]
    },
    {
      "cell_type": "code",
      "source": [
        "dict_path = \"/content/drive/MyDrive/ML_DataSet/dictionary.txt\"\n",
        "encoding_dict = pd.read_table(dict_path, delim_whitespace = False, names = ('nums', 'events'))\n",
        "# mapping the Column values from dictionary to the cloumns of events dataset\n",
        "event_type = encoding_dict[1:13]\n",
        "event_type2 = encoding_dict[14:18]\n",
        "side = encoding_dict[19:21]\n",
        "shot_place = encoding_dict[22:35]\n",
        "shot_outcome = encoding_dict[36:40]\n",
        "location = encoding_dict[41:60]\n",
        "bodypart = encoding_dict[61:64]\n",
        "assist_method = encoding_dict[65:70]\n",
        "situation = encoding_dict[71:75]"
      ],
      "metadata": {
        "id": "U4iSkzfe1TGJ"
      },
      "execution_count": 131,
      "outputs": []
    },
    {
      "cell_type": "code",
      "source": [
        "event_type"
      ],
      "metadata": {
        "id": "EBa4nQ0J6A9X"
      },
      "execution_count": null,
      "outputs": []
    },
    {
      "cell_type": "code",
      "source": [
        "side"
      ],
      "metadata": {
        "id": "iN8XEYtO33Tc"
      },
      "execution_count": null,
      "outputs": []
    },
    {
      "cell_type": "code",
      "source": [
        "goals_scored=game_events[game_events[\"is_goal\"]==1]\n",
        "goals_scored"
      ],
      "metadata": {
        "id": "T-v8jBbhB6fg"
      },
      "execution_count": null,
      "outputs": []
    },
    {
      "cell_type": "code",
      "source": [
        "fig = plot.figure(figsize=(10,8))\n",
        "plot.hist(goals_scored[goals_scored[\"side\"]==1][\"time\"],width=0.5,bins=100,color=\"cyan\",label=\"home goals\")   \n",
        "plot.hist(goals_scored[goals_scored[\"side\"]==2][\"time\"],width=0.5,bins=100,color=\"grey\",label=\"away goals\") \n",
        "plot.xlabel(\"Minutes\")\n",
        "plot.ylabel(\"Number of goals\")\n",
        "plot.legend()\n",
        "plot.title(\"Number of goals (by home/away side) against Time during match\")"
      ],
      "metadata": {
        "id": "kYb_xSLRAzm5"
      },
      "execution_count": null,
      "outputs": []
    },
    {
      "cell_type": "code",
      "source": [
        "yellow_sec=game_events[game_events[\"event_type\"]==5]\n",
        "red=game_events[game_events[\"event_type\"]==6]\n",
        "reds_total=[yellow_sec,red]\n",
        "total_red_cards=pd.concat(reds_total)\n",
        "total_red_cards.event_type.unique()"
      ],
      "metadata": {
        "colab": {
          "base_uri": "https://localhost:8080/"
        },
        "id": "li57iT4CDFkp",
        "outputId": "317d2dc0-3f09-43e5-dc07-d6d270fb8dbc"
      },
      "execution_count": 136,
      "outputs": [
        {
          "output_type": "execute_result",
          "data": {
            "text/plain": [
              "array([5, 6])"
            ]
          },
          "metadata": {},
          "execution_count": 136
        }
      ]
    },
    {
      "cell_type": "code",
      "source": [
        "red_home=total_red_cards[total_red_cards[\"side\"]==1].shape[0]\n",
        "red_away=total_red_cards[total_red_cards[\"side\"]==2].shape[0]\n",
        "\n",
        "red_combi=pd.DataFrame({\"home\":red_home,\"away\":red_away},index=[\"Red cards\"])\n",
        "red_combi.plot(kind=\"bar\")\n",
        "plot.title(\"Number of Red cards (Home/Away)\",fontname=\"Times New Roman Bold\",fontsize=14,fontweight=\"bold\")\n",
        "red_combi"
      ],
      "metadata": {
        "id": "Xt0XvBreC89u"
      },
      "execution_count": null,
      "outputs": []
    },
    {
      "cell_type": "code",
      "source": [
        "## Utility function to plot bar plots with similar configuration\n",
        "def plot_barplot(data, x_ticks, x_labels, y_labels, title, color='muted', num=10, figsize=8):\n",
        "    ## Set standard style as whitegrid (this also could be customized via param)\n",
        "    sns.set_style(\"whitegrid\")\n",
        "    ## Set a figure with custom figsize\n",
        "    plot.figure(figsize=(num, figsize))\n",
        "    ## Plottin data\n",
        "    ax = sns.barplot(x = [j for j in range(0, len(data))], y=data.values, palette=color)\n",
        "    ## Setting ticks extracted from data indexes\n",
        "    ax.set_xticks([j for j in range(0, len(data))])\n",
        "    ## Set labels of the chart\n",
        "    ax.set_xticklabels(x_ticks, rotation=45)\n",
        "    ax.set(xlabel = x_labels, ylabel = y_labels, title = title)\n",
        "    ax.plot();\n",
        "    plot.tight_layout()"
      ],
      "metadata": {
        "id": "Mi1f3XpbE8vx"
      },
      "execution_count": 138,
      "outputs": []
    },
    {
      "cell_type": "code",
      "source": [
        "df_shot_places = game_events[(game_events['event_type'] == 1) & \n",
        "                           (game_events['is_goal'] == 1)]['shot_place'].value_counts()\n",
        "\n",
        "## Plotting the chart\n",
        "plot_barplot(df_shot_places, shot_place['events'], 'Shot places', 'Number of events',\n",
        "    'Shot places resulting in goals', 'BuGn_r', 8, 5)"
      ],
      "metadata": {
        "id": "ERzxsZcYETVt"
      },
      "execution_count": null,
      "outputs": []
    },
    {
      "cell_type": "code",
      "source": [
        "## Grouping attempts by team\n",
        "grouping_by_offensive = game_events[game_events['is_goal']==1].groupby('event_team')\n",
        "\n",
        "## Sorting the values\n",
        "grouping_by_offensive = grouping_by_offensive.count().sort_values(by='id_event', ascending=False)[:10]\n",
        "teams = grouping_by_offensive.index\n",
        "scores = grouping_by_offensive['id_event']\n",
        "\n",
        "## Plotting the teams\n",
        "plot_barplot(scores, teams, 'Teams', '# of goals', 'Most offensive teams', 'GnBu_d', 8, 6)"
      ],
      "metadata": {
        "id": "kT_qgcG8F1sD"
      },
      "execution_count": null,
      "outputs": []
    },
    {
      "cell_type": "code",
      "source": [
        "## grouping by player when is goal\n",
        "grouping_by_offensive_player = game_events[game_events['is_goal']==1].groupby('player')\n",
        "\n",
        "## Couting and sorting the number of goals by player, then pick the top 10\n",
        "grouping_by_offensive_player = grouping_by_offensive_player.count().sort_values(by='id_event',\n",
        "                                                                                ascending=False)[:10]\n",
        "## Extracting player names\n",
        "players = grouping_by_offensive_player.index\n",
        "## Extracting values (# of goals)\n",
        "scores = grouping_by_offensive_player['id_event']\n",
        "scores\n",
        "## Plotting the chart\n",
        "#plot_barplot(scores, players, 'Players', '# of score', 'Most offensive players', 'GnBu_d', 8, 6)"
      ],
      "metadata": {
        "id": "iVLfDLKoHpzs"
      },
      "execution_count": null,
      "outputs": []
    },
    {
      "cell_type": "code",
      "source": [
        "grouping_by_offensive_player = game_events[game_events['is_goal']==1].groupby('player')\n",
        "grouping_by_offensive_player = grouping_by_offensive_player.count().sort_values(by='id_event', ascending=False)[:10]\n",
        "grouping_by_offensive_player['id_event']"
      ],
      "metadata": {
        "id": "NtLwCqScNU80"
      },
      "execution_count": null,
      "outputs": []
    },
    {
      "cell_type": "code",
      "source": [
        "import plotly.express as px\n",
        "#fig = px.scatter(game_events,x=\"assist_method\",y= \"is_goal\",color=\"player\",text=\"Name\",title=\"Goals Vs Assists\")\n",
        "#fig.update_traces(textposition='top center')\n",
        "#fig.show()\n",
        "plot_barplot(grouping_by_offensive_player['id_event'], players, 'Players', '# of score', 'Goals Vs Assists', 'GnBu_d', 8, 6)"
      ],
      "metadata": {
        "id": "N_ia2Q-oMVyA"
      },
      "execution_count": null,
      "outputs": []
    },
    {
      "cell_type": "code",
      "source": [
        "plot.rcParams['figure.figsize'] = (18, 6)\n",
        "\n",
        "plot.subplot(1, 2, 1)\n",
        "sns.set(style = 'whitegrid')\n",
        "sns.distplot(scores)\n",
        "plot.title('Goals Distribution', fontsize = 20)\n",
        "plot.xlabel('Goals')\n",
        "plot.ylabel('Count')\n",
        "\n",
        "plot.subplot(1, 2, 2)\n",
        "sns.set(style = 'whitegrid')\n",
        "sns.distplot(game_events['assist_method'], color = 'yellow')\n",
        "plot.title('Assists Distribution', fontsize = 20)\n",
        "plot.xlabel('Assists Distribution')\n",
        "plot.ylabel('Count')\n",
        "plot.show()"
      ],
      "metadata": {
        "id": "hE1UmnpIPwzs"
      },
      "execution_count": null,
      "outputs": []
    },
    {
      "cell_type": "code",
      "source": [
        "X= np.array(list(zip(scores, game_events['assist_method'])))\n",
        "from sklearn.cluster import KMeans\n",
        "wcss=[]\n",
        "for i in range(1,11):\n",
        "    kmeans = KMeans(n_clusters= i, init='k-means++', random_state=0)\n",
        "    kmeans.fit(X)\n",
        "    wcss.append(kmeans.inertia_)     \n",
        "plot.plot(range(1,11), wcss,)\n",
        "plot.title('The Elbow Method')\n",
        "plot.xlabel('no of clusters')\n",
        "plot.ylabel('wcss')\n",
        "plot.show()"
      ],
      "metadata": {
        "id": "cC2uCNRlR2g2"
      },
      "execution_count": null,
      "outputs": []
    },
    {
      "cell_type": "markdown",
      "source": [
        "Based on the result of elbow method we can get the number of cluster=4"
      ],
      "metadata": {
        "id": "7HfCIUHkS2oN"
      }
    },
    {
      "cell_type": "code",
      "source": [
        "kmeansmodel = KMeans(n_clusters=4 , init='k-means++', random_state=0)\n",
        "y_kmeans= kmeansmodel.fit_predict(X)\n",
        "labels = kmeansmodel.labels_\n",
        "game_events[\"label\"]=pd.Series(labels)\n",
        "game_events.loc[game_events['label'] == 3, 'Category'] = 'magician'\n",
        "game_events.loc[game_events['label'] == 2, 'Category'] = 'Star Performer'\n",
        "game_events.loc[game_events['label'] == 1, 'Category'] = 'Tornado'\n",
        "game_events.loc[game_events['label'] == 0, 'Category'] = 'contributer'\n",
        "game_events = game_events.fillna(0)"
      ],
      "metadata": {
        "id": "oWYHgA5rS4Sf"
      },
      "execution_count": 146,
      "outputs": []
    },
    {
      "cell_type": "code",
      "source": [
        "game_events['Category']"
      ],
      "metadata": {
        "id": "ZCwdCElVZo4X"
      },
      "execution_count": null,
      "outputs": []
    },
    {
      "cell_type": "code",
      "source": [
        "fig = px.scatter(game_events['is_goal'],game_events['side'],color=game_events['Category'],text=game_events['player'],title=\"K-mean clustering of Assists VS Goals\")\n",
        "fig.update_traces(textposition='top center')\n",
        "fig.show()\n",
        "#plot.plot(scores, game_events['assist_method'], color= game_events['Category'], text=\"Name\",title=\"K-mean clustering of Assists VS Goals\")\n",
        "#plot.show()"
      ],
      "metadata": {
        "id": "BvAoy7G1VFab"
      },
      "execution_count": null,
      "outputs": []
    },
    {
      "cell_type": "code",
      "source": [
        "df1 = game_events[['event_team','event_type', 'event_type2','location', 'assist_method', 'situation', 'bodypart']]\n",
        "\n",
        "df1.groupby('event_team')\n",
        "df2 = df1.groupby('event_team', group_keys=False)\n",
        "k = df1['event_team'].sort_values().unique()\n",
        "\n",
        "appended_data = []\n",
        "df1\n",
        "for col in df1.columns[df1.columns != 'event_team']: \n",
        "    #print(col)\n",
        "    appended_data.append(df2[col].value_counts(dropna=True).sort_index().unstack(col).add_prefix(col+'_'))\n",
        "\n",
        "df3 = pd.concat(appended_data, axis=1)    \n",
        "df3['Event team'] = k\n",
        "df3.head()\n",
        "#event_type['events']"
      ],
      "metadata": {
        "id": "9OEKB7aozGWO"
      },
      "execution_count": null,
      "outputs": []
    },
    {
      "cell_type": "code",
      "source": [
        "gam = game_info['ht'].value_counts() + game_info['at'].value_counts()\n",
        "\n",
        "df3['games'] = gam\n",
        "df3.head(5)\n",
        "\n",
        "for i in df3.columns:\n",
        "    if (type(df3[i][0]) == np.float64) | (type(df3[i][0]) == np.int64):\n",
        "        df3[i] = df3[i].div(gam, axis=0)"
      ],
      "metadata": {
        "id": "_2UveuGn9K3R"
      },
      "execution_count": 150,
      "outputs": []
    },
    {
      "cell_type": "code",
      "source": [
        "df3.rename(columns={'location_10.0': 'location_10'}, inplace = True)\n",
        "#df3['games'] = gam\n",
        "for col in df3.columns:   \n",
        "    if col.endswith('.0'):\n",
        "        col1 = col.strip('.0')\n",
        "    else:\n",
        "        col1 = col\n",
        "    df3 = df3.rename(columns={col : col1})   \n",
        "\n",
        "print(df3.columns)\n"
      ],
      "metadata": {
        "id": "jtEn6uSS7wG8"
      },
      "execution_count": null,
      "outputs": []
    },
    {
      "cell_type": "code",
      "source": [
        "f = open(\"/content/drive/MyDrive/ML_DataSet/dictionary.txt\", \"r\")\n",
        "x = []\n",
        "k = []\n",
        "r = []\n",
        "for lines in f:\n",
        "    x.append(lines.split())\n",
        "\n",
        "line_base = x[0][0]\n",
        "\n",
        "for line in x:\n",
        "    if len(line) > 1:        \n",
        "        ll = ''\n",
        "        for j in range(1, len(line)):\n",
        "            if j < (len(line) - 1):\n",
        "                ll = ll + line[j] + ' '\n",
        "            else:\n",
        "                ll = ll + line[j]\n",
        "        k.append([line_base + '_' + line[0], ll])\n",
        "                \n",
        "    elif len(line) == 1:\n",
        "        line_base = line[0]\n",
        "print(k)"
      ],
      "metadata": {
        "colab": {
          "base_uri": "https://localhost:8080/"
        },
        "id": "K5r_y-JeCkkK",
        "outputId": "4ff61f28-70f0-4b5e-cede-e8fe77521329"
      },
      "execution_count": 152,
      "outputs": [
        {
          "output_type": "stream",
          "name": "stdout",
          "text": [
            "[['event_type_0', 'Announcement'], ['event_type_1', 'Attempt'], ['event_type_2', 'Corner'], ['event_type_3', 'Foul'], ['event_type_4', 'Yellow card'], ['event_type_5', 'Second yellow card'], ['event_type_6', 'Red card'], ['event_type_7', 'Substitution'], ['event_type_8', 'Free kick won'], ['event_type_9', 'Offside'], ['event_type_10', 'Hand ball'], ['event_type_11', 'Penalty conceded'], ['event_type2_12', 'Key Pass'], ['event_type2_13', 'Failed through ball'], ['event_type2_14', 'Sending off'], ['event_type2_15', 'Own goal'], ['side_1', 'Home'], ['side_2', 'Away'], ['shot_place_1', 'Bit too high'], ['shot_place_2', 'Blocked'], ['shot_place_3', 'Bottom left corner'], ['shot_place_4', 'Bottom right corner'], ['shot_place_5', 'Centre of the goal'], ['shot_place_6', 'High and wide'], ['shot_place_7', 'Hits the bar'], ['shot_place_8', 'Misses to the left'], ['shot_place_9', 'Misses to the right'], ['shot_place_10', 'Too high'], ['shot_place_11', 'Top centre of the goal'], ['shot_place_12', 'Top left corner'], ['shot_place_13', 'Top right corner'], ['shot_outcome_1', 'On target'], ['shot_outcome_2', 'Off target'], ['shot_outcome_3', 'Blocked'], ['shot_outcome_4', 'Hit the bar'], ['location_1', 'Attacking half'], ['location_2', 'Defensive half'], ['location_3', 'Centre of the box'], ['location_4', 'Left wing'], ['location_5', 'Right wing'], ['location_6', 'Difficult angle and long range'], ['location_7', 'Difficult angle on the left'], ['location_8', 'Difficult angle on the right'], ['location_9', 'Left side of the box'], ['location_10', 'Left side of the six yard box'], ['location_11', 'Right side of the box'], ['location_12', 'Right side of the six yard box'], ['location_13', 'Very close range'], ['location_14', 'Penalty spot'], ['location_15', 'Outside the box'], ['location_16', 'Long range'], ['location_17', 'More than 35 yards'], ['location_18', 'More than 40 yards'], ['location_19', 'Not recorded'], ['bodypart_1', 'right foot'], ['bodypart_2', 'left foot'], ['bodypart_3', 'head'], ['assist_method_0', 'None'], ['assist_method_1', 'Pass'], ['assist_method_2', 'Cross'], ['assist_method_3', 'Headed pass'], ['assist_method_4', 'Through ball'], ['situation_1', 'Open play'], ['situation_2', 'Set piece'], ['situation_3', 'Corner'], ['situation_4', 'Free kick']]\n"
          ]
        }
      ]
    },
    {
      "cell_type": "code",
      "source": [
        "i = 0\n",
        "for col in k:    \n",
        "    if col[0] in df3.columns:        \n",
        "        df3 = df3.rename(columns={col[0] : col[1]})\n",
        "    \n",
        "print(df3.columns)"
      ],
      "metadata": {
        "id": "_TM9WTf6DVXE"
      },
      "execution_count": null,
      "outputs": []
    },
    {
      "cell_type": "code",
      "source": [
        "df3.drop('Not recorded', axis=1, inplace=True)\n",
        "\n",
        "def column_sum(a,b):\n",
        "    c = df3[[a,b]].sum(axis=1)    \n",
        "    df3.drop([a,b], axis=1, inplace=True)\n",
        "    return c    \n",
        "\n",
        "df3['Foot'] = column_sum('right foot','left foot')\n",
        "df3['Wing'] = column_sum('Right wing','Left wing')\n",
        "df3['Difficult angle'] = column_sum('Difficult angle on the left','Difficult angle on the right')\n",
        "df3['Side of the box'] = column_sum('Left side of the box','Right side of the box')\n",
        "df3['Side of the six yard box'] = column_sum('Left side of the six yard box','Right side of the six yard box')"
      ],
      "metadata": {
        "id": "PojTFGKaDbHI"
      },
      "execution_count": 154,
      "outputs": []
    },
    {
      "cell_type": "code",
      "source": [
        "df3.rename(columns={'head': 'Head'}, inplace = True) \n",
        "df3.drop('games', axis=1, inplace=True)\n",
        "df3.drop('Second yellow card', axis=1, inplace=True)\n"
      ],
      "metadata": {
        "id": "EbmGMk7mDkK6"
      },
      "execution_count": 155,
      "outputs": []
    },
    {
      "cell_type": "code",
      "source": [
        "df3.dropna(axis=0,inplace=True)\n",
        "df3.head()\n",
        "#df3.shape"
      ],
      "metadata": {
        "colab": {
          "base_uri": "https://localhost:8080/",
          "height": 475
        },
        "id": "zUAxYiA4EO3v",
        "outputId": "53c43192-3698-46e1-ca52-36428fa88a86"
      },
      "execution_count": 213,
      "outputs": [
        {
          "output_type": "execute_result",
          "data": {
            "text/html": [
              "\n",
              "  <div id=\"df-6c4ef148-58a1-4446-88bb-1a9ae77b2de1\">\n",
              "    <div class=\"colab-df-container\">\n",
              "      <div>\n",
              "<style scoped>\n",
              "    .dataframe tbody tr th:only-of-type {\n",
              "        vertical-align: middle;\n",
              "    }\n",
              "\n",
              "    .dataframe tbody tr th {\n",
              "        vertical-align: top;\n",
              "    }\n",
              "\n",
              "    .dataframe thead th {\n",
              "        text-align: right;\n",
              "    }\n",
              "</style>\n",
              "<table border=\"1\" class=\"dataframe\">\n",
              "  <thead>\n",
              "    <tr style=\"text-align: right;\">\n",
              "      <th></th>\n",
              "      <th>Attempt</th>\n",
              "      <th>Corner</th>\n",
              "      <th>Foul</th>\n",
              "      <th>Yellow card</th>\n",
              "      <th>Red card</th>\n",
              "      <th>Substitution</th>\n",
              "      <th>Free kick won</th>\n",
              "      <th>Offside</th>\n",
              "      <th>Hand ball</th>\n",
              "      <th>Penalty conceded</th>\n",
              "      <th>event_type2_</th>\n",
              "      <th>Key Pass</th>\n",
              "      <th>Failed through ball</th>\n",
              "      <th>Sending off</th>\n",
              "      <th>Own goal</th>\n",
              "      <th>location_</th>\n",
              "      <th>Attacking half</th>\n",
              "      <th>Defensive half</th>\n",
              "      <th>Centre of the box</th>\n",
              "      <th>Difficult angle and long range</th>\n",
              "      <th>Very close range</th>\n",
              "      <th>Penalty spot</th>\n",
              "      <th>Outside the box</th>\n",
              "      <th>Long range</th>\n",
              "      <th>More than 35 yards</th>\n",
              "      <th>More than 40 yards</th>\n",
              "      <th>None</th>\n",
              "      <th>Pass</th>\n",
              "      <th>Cross</th>\n",
              "      <th>Headed pass</th>\n",
              "      <th>Through ball</th>\n",
              "      <th>situation_</th>\n",
              "      <th>Open play</th>\n",
              "      <th>Set piece</th>\n",
              "      <th>Corner</th>\n",
              "      <th>Free kick</th>\n",
              "      <th>bodypart_</th>\n",
              "      <th>Head</th>\n",
              "      <th>Event team</th>\n",
              "      <th>Foot</th>\n",
              "      <th>Wing</th>\n",
              "      <th>Difficult angle</th>\n",
              "      <th>Side of the box</th>\n",
              "      <th>Side of the six yard box</th>\n",
              "    </tr>\n",
              "    <tr>\n",
              "      <th>event_team</th>\n",
              "      <th></th>\n",
              "      <th></th>\n",
              "      <th></th>\n",
              "      <th></th>\n",
              "      <th></th>\n",
              "      <th></th>\n",
              "      <th></th>\n",
              "      <th></th>\n",
              "      <th></th>\n",
              "      <th></th>\n",
              "      <th></th>\n",
              "      <th></th>\n",
              "      <th></th>\n",
              "      <th></th>\n",
              "      <th></th>\n",
              "      <th></th>\n",
              "      <th></th>\n",
              "      <th></th>\n",
              "      <th></th>\n",
              "      <th></th>\n",
              "      <th></th>\n",
              "      <th></th>\n",
              "      <th></th>\n",
              "      <th></th>\n",
              "      <th></th>\n",
              "      <th></th>\n",
              "      <th></th>\n",
              "      <th></th>\n",
              "      <th></th>\n",
              "      <th></th>\n",
              "      <th></th>\n",
              "      <th></th>\n",
              "      <th></th>\n",
              "      <th></th>\n",
              "      <th></th>\n",
              "      <th></th>\n",
              "      <th></th>\n",
              "      <th></th>\n",
              "      <th></th>\n",
              "      <th></th>\n",
              "      <th></th>\n",
              "      <th></th>\n",
              "      <th></th>\n",
              "      <th></th>\n",
              "    </tr>\n",
              "  </thead>\n",
              "  <tbody>\n",
              "    <tr>\n",
              "      <th>AC Ajaccio</th>\n",
              "      <td>9.701754</td>\n",
              "      <td>3.938596</td>\n",
              "      <td>13.973684</td>\n",
              "      <td>2.087719</td>\n",
              "      <td>0.105263</td>\n",
              "      <td>2.692982</td>\n",
              "      <td>13.456140</td>\n",
              "      <td>3.201754</td>\n",
              "      <td>0.842105</td>\n",
              "      <td>0.131579</td>\n",
              "      <td>40.061404</td>\n",
              "      <td>6.684211</td>\n",
              "      <td>3.201754</td>\n",
              "      <td>0.149123</td>\n",
              "      <td>0.035088</td>\n",
              "      <td>26.973684</td>\n",
              "      <td>2.500000</td>\n",
              "      <td>7.456140</td>\n",
              "      <td>2.947368</td>\n",
              "      <td>0.078947</td>\n",
              "      <td>0.236842</td>\n",
              "      <td>0.131579</td>\n",
              "      <td>4.008772</td>\n",
              "      <td>0.210526</td>\n",
              "      <td>0.175439</td>\n",
              "      <td>0.026316</td>\n",
              "      <td>43.447368</td>\n",
              "      <td>4.298246</td>\n",
              "      <td>1.736842</td>\n",
              "      <td>0.377193</td>\n",
              "      <td>0.271930</td>\n",
              "      <td>40.429825</td>\n",
              "      <td>8.008772</td>\n",
              "      <td>0.754386</td>\n",
              "      <td>0.649123</td>\n",
              "      <td>0.289474</td>\n",
              "      <td>40.429825</td>\n",
              "      <td>1.456140</td>\n",
              "      <td>AC Ajaccio</td>\n",
              "      <td>8.245614</td>\n",
              "      <td>3.500000</td>\n",
              "      <td>0.166667</td>\n",
              "      <td>1.429825</td>\n",
              "      <td>0.219298</td>\n",
              "    </tr>\n",
              "    <tr>\n",
              "      <th>AC Milan</th>\n",
              "      <td>14.595238</td>\n",
              "      <td>5.833333</td>\n",
              "      <td>12.747619</td>\n",
              "      <td>2.376190</td>\n",
              "      <td>0.085714</td>\n",
              "      <td>2.823810</td>\n",
              "      <td>13.523810</td>\n",
              "      <td>2.585714</td>\n",
              "      <td>0.609524</td>\n",
              "      <td>0.200000</td>\n",
              "      <td>42.095238</td>\n",
              "      <td>10.476190</td>\n",
              "      <td>2.585714</td>\n",
              "      <td>0.185714</td>\n",
              "      <td>0.052381</td>\n",
              "      <td>27.276190</td>\n",
              "      <td>3.204762</td>\n",
              "      <td>7.066667</td>\n",
              "      <td>3.733333</td>\n",
              "      <td>0.047619</td>\n",
              "      <td>0.442857</td>\n",
              "      <td>0.242857</td>\n",
              "      <td>6.976190</td>\n",
              "      <td>0.109524</td>\n",
              "      <td>0.090476</td>\n",
              "      <td>0.004762</td>\n",
              "      <td>44.919048</td>\n",
              "      <td>7.409524</td>\n",
              "      <td>2.271429</td>\n",
              "      <td>0.290476</td>\n",
              "      <td>0.504762</td>\n",
              "      <td>40.800000</td>\n",
              "      <td>12.452381</td>\n",
              "      <td>0.685714</td>\n",
              "      <td>1.042857</td>\n",
              "      <td>0.414286</td>\n",
              "      <td>40.800000</td>\n",
              "      <td>1.623810</td>\n",
              "      <td>AC Milan</td>\n",
              "      <td>12.971429</td>\n",
              "      <td>3.252381</td>\n",
              "      <td>0.300000</td>\n",
              "      <td>2.242857</td>\n",
              "      <td>0.300000</td>\n",
              "    </tr>\n",
              "    <tr>\n",
              "      <th>AS Monaco</th>\n",
              "      <td>12.333333</td>\n",
              "      <td>5.385185</td>\n",
              "      <td>12.340741</td>\n",
              "      <td>1.800000</td>\n",
              "      <td>0.059259</td>\n",
              "      <td>2.851852</td>\n",
              "      <td>12.859259</td>\n",
              "      <td>2.111111</td>\n",
              "      <td>0.785185</td>\n",
              "      <td>0.214815</td>\n",
              "      <td>39.466667</td>\n",
              "      <td>9.029630</td>\n",
              "      <td>2.111111</td>\n",
              "      <td>0.081481</td>\n",
              "      <td>0.051852</td>\n",
              "      <td>25.548148</td>\n",
              "      <td>3.014815</td>\n",
              "      <td>6.281481</td>\n",
              "      <td>4.133333</td>\n",
              "      <td>0.059259</td>\n",
              "      <td>0.414815</td>\n",
              "      <td>0.192593</td>\n",
              "      <td>4.496296</td>\n",
              "      <td>0.081481</td>\n",
              "      <td>0.066667</td>\n",
              "      <td>0.014815</td>\n",
              "      <td>41.711111</td>\n",
              "      <td>5.585185</td>\n",
              "      <td>2.688889</td>\n",
              "      <td>0.362963</td>\n",
              "      <td>0.392593</td>\n",
              "      <td>38.407407</td>\n",
              "      <td>10.274074</td>\n",
              "      <td>0.637037</td>\n",
              "      <td>1.051852</td>\n",
              "      <td>0.370370</td>\n",
              "      <td>38.407407</td>\n",
              "      <td>2.177778</td>\n",
              "      <td>AS Monaco</td>\n",
              "      <td>10.155556</td>\n",
              "      <td>3.562963</td>\n",
              "      <td>0.259259</td>\n",
              "      <td>1.918519</td>\n",
              "      <td>0.562963</td>\n",
              "    </tr>\n",
              "    <tr>\n",
              "      <th>AS Nancy Lorraine</th>\n",
              "      <td>11.020833</td>\n",
              "      <td>3.708333</td>\n",
              "      <td>13.125000</td>\n",
              "      <td>1.666667</td>\n",
              "      <td>0.072917</td>\n",
              "      <td>2.416667</td>\n",
              "      <td>12.229167</td>\n",
              "      <td>2.645833</td>\n",
              "      <td>0.697917</td>\n",
              "      <td>0.125000</td>\n",
              "      <td>36.729167</td>\n",
              "      <td>8.239583</td>\n",
              "      <td>2.645833</td>\n",
              "      <td>0.083333</td>\n",
              "      <td>0.010417</td>\n",
              "      <td>24.458333</td>\n",
              "      <td>2.489583</td>\n",
              "      <td>6.437500</td>\n",
              "      <td>2.718750</td>\n",
              "      <td>0.072917</td>\n",
              "      <td>0.291667</td>\n",
              "      <td>0.104167</td>\n",
              "      <td>5.229167</td>\n",
              "      <td>0.177083</td>\n",
              "      <td>0.166667</td>\n",
              "      <td>0.020833</td>\n",
              "      <td>39.468750</td>\n",
              "      <td>5.447917</td>\n",
              "      <td>2.010417</td>\n",
              "      <td>0.437500</td>\n",
              "      <td>0.343750</td>\n",
              "      <td>36.687500</td>\n",
              "      <td>9.104167</td>\n",
              "      <td>0.718750</td>\n",
              "      <td>0.895833</td>\n",
              "      <td>0.302083</td>\n",
              "      <td>36.687500</td>\n",
              "      <td>1.750000</td>\n",
              "      <td>AS Nancy Lorraine</td>\n",
              "      <td>9.270833</td>\n",
              "      <td>3.302083</td>\n",
              "      <td>0.156250</td>\n",
              "      <td>1.739583</td>\n",
              "      <td>0.302083</td>\n",
              "    </tr>\n",
              "    <tr>\n",
              "      <th>AS Roma</th>\n",
              "      <td>15.509524</td>\n",
              "      <td>6.019048</td>\n",
              "      <td>11.914286</td>\n",
              "      <td>2.304762</td>\n",
              "      <td>0.080952</td>\n",
              "      <td>2.833333</td>\n",
              "      <td>13.100000</td>\n",
              "      <td>2.176190</td>\n",
              "      <td>0.547619</td>\n",
              "      <td>0.190476</td>\n",
              "      <td>40.690476</td>\n",
              "      <td>11.642857</td>\n",
              "      <td>2.176190</td>\n",
              "      <td>0.138095</td>\n",
              "      <td>0.028571</td>\n",
              "      <td>26.066667</td>\n",
              "      <td>3.161905</td>\n",
              "      <td>7.104762</td>\n",
              "      <td>4.190476</td>\n",
              "      <td>0.128571</td>\n",
              "      <td>0.428571</td>\n",
              "      <td>0.185714</td>\n",
              "      <td>6.757143</td>\n",
              "      <td>0.123810</td>\n",
              "      <td>0.095238</td>\n",
              "      <td>0.014286</td>\n",
              "      <td>43.033333</td>\n",
              "      <td>8.161905</td>\n",
              "      <td>2.257143</td>\n",
              "      <td>0.404762</td>\n",
              "      <td>0.819048</td>\n",
              "      <td>39.166667</td>\n",
              "      <td>13.261905</td>\n",
              "      <td>0.633333</td>\n",
              "      <td>1.223810</td>\n",
              "      <td>0.390476</td>\n",
              "      <td>39.166667</td>\n",
              "      <td>1.776190</td>\n",
              "      <td>AS Roma</td>\n",
              "      <td>13.733333</td>\n",
              "      <td>2.833333</td>\n",
              "      <td>0.371429</td>\n",
              "      <td>2.695238</td>\n",
              "      <td>0.409524</td>\n",
              "    </tr>\n",
              "  </tbody>\n",
              "</table>\n",
              "</div>\n",
              "      <button class=\"colab-df-convert\" onclick=\"convertToInteractive('df-6c4ef148-58a1-4446-88bb-1a9ae77b2de1')\"\n",
              "              title=\"Convert this dataframe to an interactive table.\"\n",
              "              style=\"display:none;\">\n",
              "        \n",
              "  <svg xmlns=\"http://www.w3.org/2000/svg\" height=\"24px\"viewBox=\"0 0 24 24\"\n",
              "       width=\"24px\">\n",
              "    <path d=\"M0 0h24v24H0V0z\" fill=\"none\"/>\n",
              "    <path d=\"M18.56 5.44l.94 2.06.94-2.06 2.06-.94-2.06-.94-.94-2.06-.94 2.06-2.06.94zm-11 1L8.5 8.5l.94-2.06 2.06-.94-2.06-.94L8.5 2.5l-.94 2.06-2.06.94zm10 10l.94 2.06.94-2.06 2.06-.94-2.06-.94-.94-2.06-.94 2.06-2.06.94z\"/><path d=\"M17.41 7.96l-1.37-1.37c-.4-.4-.92-.59-1.43-.59-.52 0-1.04.2-1.43.59L10.3 9.45l-7.72 7.72c-.78.78-.78 2.05 0 2.83L4 21.41c.39.39.9.59 1.41.59.51 0 1.02-.2 1.41-.59l7.78-7.78 2.81-2.81c.8-.78.8-2.07 0-2.86zM5.41 20L4 18.59l7.72-7.72 1.47 1.35L5.41 20z\"/>\n",
              "  </svg>\n",
              "      </button>\n",
              "      \n",
              "  <style>\n",
              "    .colab-df-container {\n",
              "      display:flex;\n",
              "      flex-wrap:wrap;\n",
              "      gap: 12px;\n",
              "    }\n",
              "\n",
              "    .colab-df-convert {\n",
              "      background-color: #E8F0FE;\n",
              "      border: none;\n",
              "      border-radius: 50%;\n",
              "      cursor: pointer;\n",
              "      display: none;\n",
              "      fill: #1967D2;\n",
              "      height: 32px;\n",
              "      padding: 0 0 0 0;\n",
              "      width: 32px;\n",
              "    }\n",
              "\n",
              "    .colab-df-convert:hover {\n",
              "      background-color: #E2EBFA;\n",
              "      box-shadow: 0px 1px 2px rgba(60, 64, 67, 0.3), 0px 1px 3px 1px rgba(60, 64, 67, 0.15);\n",
              "      fill: #174EA6;\n",
              "    }\n",
              "\n",
              "    [theme=dark] .colab-df-convert {\n",
              "      background-color: #3B4455;\n",
              "      fill: #D2E3FC;\n",
              "    }\n",
              "\n",
              "    [theme=dark] .colab-df-convert:hover {\n",
              "      background-color: #434B5C;\n",
              "      box-shadow: 0px 1px 3px 1px rgba(0, 0, 0, 0.15);\n",
              "      filter: drop-shadow(0px 1px 2px rgba(0, 0, 0, 0.3));\n",
              "      fill: #FFFFFF;\n",
              "    }\n",
              "  </style>\n",
              "\n",
              "      <script>\n",
              "        const buttonEl =\n",
              "          document.querySelector('#df-6c4ef148-58a1-4446-88bb-1a9ae77b2de1 button.colab-df-convert');\n",
              "        buttonEl.style.display =\n",
              "          google.colab.kernel.accessAllowed ? 'block' : 'none';\n",
              "\n",
              "        async function convertToInteractive(key) {\n",
              "          const element = document.querySelector('#df-6c4ef148-58a1-4446-88bb-1a9ae77b2de1');\n",
              "          const dataTable =\n",
              "            await google.colab.kernel.invokeFunction('convertToInteractive',\n",
              "                                                     [key], {});\n",
              "          if (!dataTable) return;\n",
              "\n",
              "          const docLinkHtml = 'Like what you see? Visit the ' +\n",
              "            '<a target=\"_blank\" href=https://colab.research.google.com/notebooks/data_table.ipynb>data table notebook</a>'\n",
              "            + ' to learn more about interactive tables.';\n",
              "          element.innerHTML = '';\n",
              "          dataTable['output_type'] = 'display_data';\n",
              "          await google.colab.output.renderOutput(dataTable, element);\n",
              "          const docLink = document.createElement('div');\n",
              "          docLink.innerHTML = docLinkHtml;\n",
              "          element.appendChild(docLink);\n",
              "        }\n",
              "      </script>\n",
              "    </div>\n",
              "  </div>\n",
              "  "
            ],
            "text/plain": [
              "                     Attempt  ...  Side of the six yard box\n",
              "event_team                    ...                          \n",
              "AC Ajaccio          9.701754  ...                  0.219298\n",
              "AC Milan           14.595238  ...                  0.300000\n",
              "AS Monaco          12.333333  ...                  0.562963\n",
              "AS Nancy Lorraine  11.020833  ...                  0.302083\n",
              "AS Roma            15.509524  ...                  0.409524\n",
              "\n",
              "[5 rows x 44 columns]"
            ]
          },
          "metadata": {},
          "execution_count": 213
        }
      ]
    },
    {
      "cell_type": "code",
      "source": [
        "#X= np.array(list(zip(df3['Attempt'], df3['Foul'])))\n",
        "X=df3.iloc[:, 0:38].values\n",
        "from sklearn.cluster import KMeans\n",
        "wcss=[]\n",
        "for i in range(1,11):\n",
        "    kmeans = KMeans(n_clusters= i, init='k-means++', random_state=0)\n",
        "    kmeans_model = kmeans.fit(X)\n",
        "    wcss.append(kmeans.inertia_)     \n",
        "plot.plot(range(1,11), wcss,)\n",
        "plot.title('The Elbow Method')\n",
        "plot.xlabel('no of clusters')\n",
        "plot.ylabel('wcss')\n",
        "plot.show()"
      ],
      "metadata": {
        "colab": {
          "base_uri": "https://localhost:8080/",
          "height": 392
        },
        "id": "O8Mg8A2KE4ML",
        "outputId": "b09f05d2-8685-4c89-e07c-7292badf8bd8"
      },
      "execution_count": 196,
      "outputs": [
        {
          "output_type": "display_data",
          "data": {
            "image/png": "[encoded data removed]",
            "text/plain": [
              "<Figure size 1296x432 with 1 Axes>"
            ]
          },
          "metadata": {}
        }
      ]
    },
    {
      "cell_type": "code",
      "source": [
        "def applyKMean(array1, array2, color, marker):\n",
        "  plot.plot()\n",
        "  colors = color\n",
        "  markers = marker\n",
        "  plot.title('K-mean clustering of Foul VS Attempts')\n",
        "  plot.xlabel('Attempt')\n",
        "  plot.ylabel('Foul')\n",
        "  plot.plot()\n",
        "  for i, l in enumerate(kmeans_model.labels_):\n",
        "    plot.plot(array1[i], array2[i], color=colors[l], marker=markers[l],ls='None')\n",
        "    plot.xlim([0, 20])\n",
        "    plot.ylim([0, 20])\n",
        "  plot.show()"
      ],
      "metadata": {
        "id": "dWKcU1xTF6WJ"
      },
      "execution_count": 197,
      "outputs": []
    },
    {
      "cell_type": "code",
      "source": [
        "colors = ['b', 'g', 'r','y']\n",
        "markers = ['o', 'v', 's','+']\n",
        "kmeans_model = KMeans(4).fit(X)\n",
        "applyKMean(df3['Attempt'], df3['Foul'], colors, markers)\n",
        "\n",
        "# plotting the cluster centers and the data points on a 2D plane\n"
      ],
      "metadata": {
        "colab": {
          "base_uri": "https://localhost:8080/",
          "height": 391
        },
        "id": "rCoMK9P3F77F",
        "outputId": "67d6da0e-1804-4851-eec6-67f092de98db"
      },
      "execution_count": 198,
      "outputs": [
        {
          "output_type": "display_data",
          "data": {
            "image/png": "[encoded data removed]",
            "text/plain": [
              "<Figure size 1296x432 with 1 Axes>"
            ]
          },
          "metadata": {}
        }
      ]
    },
    {
      "cell_type": "markdown",
      "source": [
        "## **K-Mean Using Pytorch**"
      ],
      "metadata": {
        "id": "un74PDBjfYm_"
      }
    },
    {
      "cell_type": "code",
      "source": [
        "!pip install kmeans-pytorch"
      ],
      "metadata": {
        "colab": {
          "base_uri": "https://localhost:8080/"
        },
        "id": "S073jqwyfkfA",
        "outputId": "4ec6cee7-b2e4-4eb0-bc5c-2de8cbb15450"
      },
      "execution_count": 242,
      "outputs": [
        {
          "output_type": "stream",
          "name": "stdout",
          "text": [
            "Requirement already satisfied: kmeans-pytorch in /usr/local/lib/python3.7/dist-packages (0.3)\n"
          ]
        }
      ]
    },
    {
      "cell_type": "code",
      "source": [
        "import torch\n",
        "import numpy as np\n",
        "from kmeans_pytorch import kmeans, kmeans_predict"
      ],
      "metadata": {
        "id": "COqKeL_tfxk6"
      },
      "execution_count": 243,
      "outputs": []
    },
    {
      "cell_type": "code",
      "source": [
        "# data\n",
        "num_clusters = 6\n",
        "x = df3.iloc[:, 0:2].values\n",
        "x = torch.from_numpy(x)"
      ],
      "metadata": {
        "id": "FhGQgGYGf31M"
      },
      "execution_count": 265,
      "outputs": []
    },
    {
      "cell_type": "code",
      "source": [
        "# set device\n",
        "if torch.cuda.is_available():\n",
        "    device = torch.device('cuda:0')\n",
        "else:\n",
        "    device = torch.device('cpu')"
      ],
      "metadata": {
        "id": "hsrDIAgzgWJw"
      },
      "execution_count": 266,
      "outputs": []
    },
    {
      "cell_type": "code",
      "source": [
        "# k-means\n",
        "cluster_ids_x, cluster_centers = kmeans(\n",
        "    X=x, num_clusters=num_clusters, distance='euclidean', device=device\n",
        ")"
      ],
      "metadata": {
        "colab": {
          "base_uri": "https://localhost:8080/"
        },
        "id": "4y4ATIVNgcZw",
        "outputId": "78d8bc9e-1403-4d9e-db13-e6ffbc360ed4"
      },
      "execution_count": 267,
      "outputs": [
        {
          "output_type": "stream",
          "name": "stdout",
          "text": [
            "running k-means on cpu..\n"
          ]
        },
        {
          "output_type": "stream",
          "name": "stderr",
          "text": [
            "[running kmeans]: 11it [00:00, 112.12it/s, center_shift=0.000000, iteration=11, tol=0.000100]\n"
          ]
        }
      ]
    },
    {
      "cell_type": "code",
      "source": [
        "print(cluster_ids_x)\n",
        "print(cluster_centers)"
      ],
      "metadata": {
        "colab": {
          "base_uri": "https://localhost:8080/"
        },
        "id": "Ck-nPYcjggP7",
        "outputId": "60098e60-8a16-44e5-aac5-c3b770ce5c32"
      },
      "execution_count": 268,
      "outputs": [
        {
          "output_type": "stream",
          "name": "stdout",
          "text": [
            "tensor([4, 2, 1, 0, 2, 0, 1, 1, 3, 2, 4, 3, 2, 1, 1, 2, 1, 1, 1, 3, 1, 4, 4, 0,\n",
            "        4, 1, 1, 0, 0, 1, 0, 1, 0, 1, 0, 2, 0, 1, 0, 0, 0, 1, 1, 4, 0, 2, 2, 0,\n",
            "        0, 3, 4, 3, 4, 1, 3, 1, 1, 1, 5, 3, 1, 0, 2, 0, 1, 1, 3, 3, 3, 1, 2, 1,\n",
            "        1, 4, 3, 3, 3, 3, 4, 0, 4, 1, 0, 5, 5, 1, 3, 4, 1, 0, 1, 1, 1, 3, 0, 1,\n",
            "        5])\n",
            "tensor([[10.6001,  4.3195],\n",
            "        [11.9104,  4.8560],\n",
            "        [15.7361,  5.9189],\n",
            "        [13.2163,  5.1553],\n",
            "        [ 9.7701,  3.8860],\n",
            "        [ 7.3644,  2.9858]])\n"
          ]
        }
      ]
    },
    {
      "cell_type": "code",
      "source": [
        "# more data\n",
        "y = df3.iloc[:, 2:4].values\n",
        "y = torch.from_numpy(y)\n",
        "y"
      ],
      "metadata": {
        "colab": {
          "base_uri": "https://localhost:8080/"
        },
        "id": "5Z306SFHgpYH",
        "outputId": "539ca463-ef48-4059-ad40-45fdf2177928"
      },
      "execution_count": 269,
      "outputs": [
        {
          "output_type": "execute_result",
          "data": {
            "text/plain": [
              "tensor([[13.9737,  2.0877],\n",
              "        [12.7476,  2.3762],\n",
              "        [12.3407,  1.8000],\n",
              "        [13.1250,  1.6667],\n",
              "        [11.9143,  2.3048],\n",
              "        [12.8158,  2.9211],\n",
              "        [13.7299,  2.7488],\n",
              "        [12.0096,  2.6220],\n",
              "        [12.8086,  2.6986],\n",
              "        [ 8.8565,  1.7560],\n",
              "        [12.4651,  2.0640],\n",
              "        [13.5134,  1.7968],\n",
              "        [10.7487,  1.2193],\n",
              "        [13.8895,  2.5698],\n",
              "        [12.0427,  1.7393],\n",
              "        [11.3583,  1.2620],\n",
              "        [11.2941,  1.5080],\n",
              "        [12.0672,  1.5224],\n",
              "        [14.5814,  2.8140],\n",
              "        [15.0351,  2.4561],\n",
              "        [12.0292,  2.7018],\n",
              "        [14.1316,  2.6711],\n",
              "        [ 6.1226,  1.1226],\n",
              "        [14.9716,  2.5308],\n",
              "        [10.8158,  2.4211],\n",
              "        [11.2647,  1.6838],\n",
              "        [11.0902,  2.5113],\n",
              "        [12.9661,  2.0169],\n",
              "        [12.9684,  2.6000],\n",
              "        [14.2129,  2.4000],\n",
              "        [12.1842,  2.8684],\n",
              "        [12.1753,  2.2990],\n",
              "        [14.2679,  3.2010],\n",
              "        [14.0481,  1.9091],\n",
              "        [12.2605,  1.7143],\n",
              "        [12.5190,  2.4190],\n",
              "        [13.7632,  2.5526],\n",
              "        [14.5213,  2.6114],\n",
              "        [12.3737,  3.0526],\n",
              "        [11.8421,  2.7847],\n",
              "        [12.3185,  1.8000],\n",
              "        [14.7526,  1.9947],\n",
              "        [12.8947,  2.3421],\n",
              "        [13.6536,  1.9150],\n",
              "        [ 9.5918,  1.5816],\n",
              "        [11.8483,  2.0995],\n",
              "        [12.4238,  2.0286],\n",
              "        [14.6667,  1.8611],\n",
              "        [10.6842,  2.6316],\n",
              "        [14.4882,  2.5213],\n",
              "        [12.9737,  3.0158],\n",
              "        [12.6209,  1.7488],\n",
              "        [ 6.0519,  1.0047],\n",
              "        [10.7393,  1.5403],\n",
              "        [13.2857,  1.7095],\n",
              "        [13.6631,  1.6096],\n",
              "        [11.8038,  2.6986],\n",
              "        [15.1711,  3.0132],\n",
              "        [ 6.7547,  1.1321],\n",
              "        [12.6540,  1.6730],\n",
              "        [12.4692,  1.6351],\n",
              "        [13.6716,  1.8955],\n",
              "        [11.1280,  2.0616],\n",
              "        [12.4313,  1.7678],\n",
              "        [13.0752,  2.7594],\n",
              "        [14.1156,  2.5260],\n",
              "        [10.8436,  1.6730],\n",
              "        [15.0987,  2.6513],\n",
              "        [12.9526,  3.0789],\n",
              "        [12.6023,  2.9766],\n",
              "        [ 9.9231,  2.0913],\n",
              "        [10.6172,  2.3254],\n",
              "        [14.5921,  3.3289],\n",
              "        [12.0654,  1.5882],\n",
              "        [12.4118,  1.4706],\n",
              "        [13.8613,  2.6474],\n",
              "        [13.3262,  1.7807],\n",
              "        [12.9378,  2.9139],\n",
              "        [13.9342,  2.6842],\n",
              "        [12.5965,  1.6404],\n",
              "        [13.6526,  2.9474],\n",
              "        [12.8673,  1.8104],\n",
              "        [12.6118,  1.9013],\n",
              "        [ 6.7500,  1.1509],\n",
              "        [ 6.0566,  0.9104],\n",
              "        [15.1481,  1.9206],\n",
              "        [13.2890,  2.4624],\n",
              "        [ 6.6321,  1.1698],\n",
              "        [14.0284,  1.9763],\n",
              "        [10.9079,  1.6842],\n",
              "        [12.9856,  2.9615],\n",
              "        [13.6930,  1.6842],\n",
              "        [13.7647,  1.9176],\n",
              "        [13.9519,  1.6791],\n",
              "        [11.9591,  2.2924],\n",
              "        [14.1444,  2.0053],\n",
              "        [ 6.2642,  1.0849]], dtype=torch.float64)"
            ]
          },
          "metadata": {},
          "execution_count": 269
        }
      ]
    },
    {
      "cell_type": "code",
      "source": [
        "# predict cluster ids for y\n",
        "cluster_ids_y = kmeans_predict(\n",
        "    y, cluster_centers, 'euclidean', device=device\n",
        ")"
      ],
      "metadata": {
        "colab": {
          "base_uri": "https://localhost:8080/"
        },
        "id": "RHku9JnWgtW6",
        "outputId": "78797f56-94ef-4d57-f9cf-aff37fd69cfd"
      },
      "execution_count": 271,
      "outputs": [
        {
          "output_type": "stream",
          "name": "stdout",
          "text": [
            "predicting on cpu..\n"
          ]
        }
      ]
    },
    {
      "cell_type": "code",
      "source": [
        "print(cluster_ids_y)"
      ],
      "metadata": {
        "colab": {
          "base_uri": "https://localhost:8080/"
        },
        "id": "o1Kk7CKWgwx7",
        "outputId": "c084bb74-1055-4c4f-c74f-a97b99254973"
      },
      "execution_count": 272,
      "outputs": [
        {
          "output_type": "stream",
          "name": "stdout",
          "text": [
            "tensor([3, 1, 0, 1, 0, 1, 3, 0, 1, 5, 1, 3, 4, 3, 0, 4, 4, 0, 3, 3, 1, 3, 5, 3,\n",
            "        4, 4, 0, 1, 1, 3, 1, 0, 3, 3, 0, 1, 3, 3, 1, 0, 0, 3, 1, 3, 4, 0, 1, 3,\n",
            "        4, 3, 1, 1, 5, 4, 1, 3, 0, 3, 5, 1, 1, 3, 4, 1, 1, 3, 4, 3, 1, 1, 4, 4,\n",
            "        3, 0, 0, 3, 3, 1, 3, 1, 3, 1, 1, 5, 5, 3, 3, 5, 3, 4, 1, 3, 3, 3, 0, 3,\n",
            "        5])\n"
          ]
        }
      ]
    },
    {
      "cell_type": "code",
      "source": [
        "# plot\n",
        "plot.figure(figsize=(4, 3), dpi=160)\n",
        "plot.scatter(x[:, 0], x[:, 1], c=cluster_ids_x, cmap='cool')\n",
        "plot.scatter(y[:, 0], y[:, 1], c=cluster_ids_y, cmap='cool', marker='X')\n",
        "plot.scatter(\n",
        "    cluster_centers[:, 0], cluster_centers[:, 1],\n",
        "    c='white',\n",
        "    alpha=0.6,\n",
        "    edgecolors='black',\n",
        "    linewidths=2\n",
        ")\n",
        "#plot.axis([10, 1, 10, 1])\n",
        "#plot.tight_layout()\n",
        "plot.show()"
      ],
      "metadata": {
        "colab": {
          "base_uri": "https://localhost:8080/",
          "height": 456
        },
        "id": "uDe6xtvUg1Wx",
        "outputId": "c2d2e406-35da-470d-8082-20f41688565b"
      },
      "execution_count": 279,
      "outputs": [
        {
          "output_type": "display_data",
          "data": {
            "image/png": "[encoded data removed]",
            "text/plain": [
              "<Figure size 640x480 with 1 Axes>"
            ]
          },
          "metadata": {}
        }
      ]
    }
  ]
}